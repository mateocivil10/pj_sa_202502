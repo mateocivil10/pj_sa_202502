{
 "cells": [
  {
   "cell_type": "code",
   "execution_count": 1,
   "id": "8039359c-8fa4-4a46-bfe0-94dbdfefe1f6",
   "metadata": {},
   "outputs": [],
   "source": [
    "import yfinance as yf\n",
    "import pandas as pd\n",
    "import numpy as np"
   ]
  },
  {
   "cell_type": "code",
   "execution_count": 2,
   "id": "12a4eff6-1d9b-464b-add6-352fcf4c311f",
   "metadata": {},
   "outputs": [],
   "source": [
    "def calcular_amortizacion_frances(principal, tasa_interes_anual, num_cuotas):\n",
    "    \"\"\"\n",
    "    Calcula la amortización de un préstamo utilizando el método francés.\n",
    "\n",
    "    Parámetros:\n",
    "    - principal: Monto total del préstamo.\n",
    "    - tasa_interes_anual: Tasa de interés anual (en formato decimal, por ejemplo, 5% = 0.05).\n",
    "    - num_cuotas: Número total de cuotas a pagar.\n",
    "\n",
    "    Retorna:\n",
    "    - DataFrame: Un DataFrame de pandas con la información de cada cuota.\n",
    "    \"\"\"\n",
    "    # Calcular la tasa de interés nominal mensual\n",
    "    tasa_interes_mensual = tasa_interes_anual / 12\n",
    "    \n",
    "    # Calcular la cuota constante (C)\n",
    "    cuota = (principal * tasa_interes_mensual) / (1 - (1 + tasa_interes_mensual) ** -num_cuotas)\n",
    "\n",
    "    print('La cuota es: ' +str(cuota))\n",
    "    \n",
    "    # Inicializar lista para almacenar los resultados\n",
    "    resultados = []\n",
    "    \n",
    "    # Inicializar saldo\n",
    "    saldo = principal\n",
    "    \n",
    "    for i in range(1, num_cuotas + 1):\n",
    "        # Calcular el interés del saldo actual\n",
    "        interes = saldo * tasa_interes_mensual\n",
    "        \n",
    "        # Calcular la amortización del capital\n",
    "        amortizacion_capital = cuota - interes\n",
    "        \n",
    "        # Actualizar el saldo restante\n",
    "        saldo -= amortizacion_capital #> saldo= saldo-amortizacion\n",
    "        \n",
    "        # Guardar los resultados en una lista\n",
    "        resultados.append({\n",
    "            'Cuota': i,\n",
    "            'Interés': round(interes, 2),\n",
    "            'Amortización Capital': round(amortizacion_capital, 2),\n",
    "            'Cuota Total': round(cuota, 2),\n",
    "            'Saldo Restante': round(saldo, 2)\n",
    "        })\n",
    "    \n",
    "    # Crear un DataFrame a partir de la lista de resultados\n",
    "    df_amortizacion = pd.DataFrame(resultados)\n",
    "    \n",
    "    return df_amortizacion"
   ]
  },
  {
   "cell_type": "code",
   "execution_count": 3,
   "id": "a44a6975-4604-4216-930d-21f1846697e7",
   "metadata": {},
   "outputs": [
    {
     "name": "stdout",
     "output_type": "stream",
     "text": [
      "El valor del prestamos es: 210000000.0\n",
      "La tasa de interes es nominal anual es de: 0.1228421322981168\n",
      "La tasa de interes es nominal mensual es de: 0.0102368443581764\n",
      "La cuota es: 2354025.0075067165\n"
     ]
    }
   ],
   "source": [
    "monto_prestamo = 300000000*0.7 # Monto del préstamo\n",
    "print('El valor del prestamos es: '+f\"\"\"{monto_prestamo}\"\"\")\n",
    "tasa_interes = ((1+0.13)**(1/12)-1)*12 # Tasa de interés Nominal anual (13%EA)\n",
    "print('La tasa de interes es nominal anual es de: '+f\"\"\"{tasa_interes}\"\"\")\n",
    "print('La tasa de interes es nominal mensual es de: '+f\"\"\"{tasa_interes/12}\"\"\")\n",
    "cuotas = 20*12 # Número de cuotas\n",
    "\n",
    "df_resultados = calcular_amortizacion_frances(monto_prestamo, tasa_interes, cuotas)"
   ]
  },
  {
   "cell_type": "code",
   "execution_count": 4,
   "id": "03ab8de3-af21-43c3-bde4-3c39925263c0",
   "metadata": {},
   "outputs": [
    {
     "data": {
      "text/plain": [
       "2354025.0075067165"
      ]
     },
     "execution_count": 4,
     "metadata": {},
     "output_type": "execute_result"
    }
   ],
   "source": [
    "i_men=tasa_interes/12\n",
    "c=(monto_prestamo*i_men)/(1-(1+i_men)**-cuotas)\n",
    "c"
   ]
  },
  {
   "cell_type": "code",
   "execution_count": 5,
   "id": "9dd1e73c-1150-4d67-82d9-7d1257a4df5e",
   "metadata": {},
   "outputs": [
    {
     "data": {
      "text/html": [
       "<div>\n",
       "<style scoped>\n",
       "    .dataframe tbody tr th:only-of-type {\n",
       "        vertical-align: middle;\n",
       "    }\n",
       "\n",
       "    .dataframe tbody tr th {\n",
       "        vertical-align: top;\n",
       "    }\n",
       "\n",
       "    .dataframe thead th {\n",
       "        text-align: right;\n",
       "    }\n",
       "</style>\n",
       "<table border=\"1\" class=\"dataframe\">\n",
       "  <thead>\n",
       "    <tr style=\"text-align: right;\">\n",
       "      <th></th>\n",
       "      <th>Cuota</th>\n",
       "      <th>Interés</th>\n",
       "      <th>Amortización Capital</th>\n",
       "      <th>Cuota Total</th>\n",
       "      <th>Saldo Restante</th>\n",
       "    </tr>\n",
       "  </thead>\n",
       "  <tbody>\n",
       "    <tr>\n",
       "      <th>0</th>\n",
       "      <td>1</td>\n",
       "      <td>2149737.32</td>\n",
       "      <td>204287.69</td>\n",
       "      <td>2354025.01</td>\n",
       "      <td>2.097957e+08</td>\n",
       "    </tr>\n",
       "    <tr>\n",
       "      <th>1</th>\n",
       "      <td>2</td>\n",
       "      <td>2147646.05</td>\n",
       "      <td>206378.95</td>\n",
       "      <td>2354025.01</td>\n",
       "      <td>2.095893e+08</td>\n",
       "    </tr>\n",
       "    <tr>\n",
       "      <th>2</th>\n",
       "      <td>3</td>\n",
       "      <td>2145533.38</td>\n",
       "      <td>208491.62</td>\n",
       "      <td>2354025.01</td>\n",
       "      <td>2.093808e+08</td>\n",
       "    </tr>\n",
       "    <tr>\n",
       "      <th>3</th>\n",
       "      <td>4</td>\n",
       "      <td>2143399.09</td>\n",
       "      <td>210625.92</td>\n",
       "      <td>2354025.01</td>\n",
       "      <td>2.091702e+08</td>\n",
       "    </tr>\n",
       "    <tr>\n",
       "      <th>4</th>\n",
       "      <td>5</td>\n",
       "      <td>2141242.94</td>\n",
       "      <td>212782.06</td>\n",
       "      <td>2354025.01</td>\n",
       "      <td>2.089574e+08</td>\n",
       "    </tr>\n",
       "    <tr>\n",
       "      <th>...</th>\n",
       "      <td>...</td>\n",
       "      <td>...</td>\n",
       "      <td>...</td>\n",
       "      <td>...</td>\n",
       "      <td>...</td>\n",
       "    </tr>\n",
       "    <tr>\n",
       "      <th>235</th>\n",
       "      <td>236</td>\n",
       "      <td>116875.27</td>\n",
       "      <td>2237149.74</td>\n",
       "      <td>2354025.01</td>\n",
       "      <td>9.179969e+06</td>\n",
       "    </tr>\n",
       "    <tr>\n",
       "      <th>236</th>\n",
       "      <td>237</td>\n",
       "      <td>93973.91</td>\n",
       "      <td>2260051.09</td>\n",
       "      <td>2354025.01</td>\n",
       "      <td>6.919918e+06</td>\n",
       "    </tr>\n",
       "    <tr>\n",
       "      <th>237</th>\n",
       "      <td>238</td>\n",
       "      <td>70838.12</td>\n",
       "      <td>2283186.89</td>\n",
       "      <td>2354025.01</td>\n",
       "      <td>4.636731e+06</td>\n",
       "    </tr>\n",
       "    <tr>\n",
       "      <th>238</th>\n",
       "      <td>239</td>\n",
       "      <td>47465.49</td>\n",
       "      <td>2306559.51</td>\n",
       "      <td>2354025.01</td>\n",
       "      <td>2.330171e+06</td>\n",
       "    </tr>\n",
       "    <tr>\n",
       "      <th>239</th>\n",
       "      <td>240</td>\n",
       "      <td>23853.60</td>\n",
       "      <td>2330171.41</td>\n",
       "      <td>2354025.01</td>\n",
       "      <td>0.000000e+00</td>\n",
       "    </tr>\n",
       "  </tbody>\n",
       "</table>\n",
       "<p>240 rows × 5 columns</p>\n",
       "</div>"
      ],
      "text/plain": [
       "     Cuota     Interés  Amortización Capital  Cuota Total  Saldo Restante\n",
       "0        1  2149737.32             204287.69   2354025.01    2.097957e+08\n",
       "1        2  2147646.05             206378.95   2354025.01    2.095893e+08\n",
       "2        3  2145533.38             208491.62   2354025.01    2.093808e+08\n",
       "3        4  2143399.09             210625.92   2354025.01    2.091702e+08\n",
       "4        5  2141242.94             212782.06   2354025.01    2.089574e+08\n",
       "..     ...         ...                   ...          ...             ...\n",
       "235    236   116875.27            2237149.74   2354025.01    9.179969e+06\n",
       "236    237    93973.91            2260051.09   2354025.01    6.919918e+06\n",
       "237    238    70838.12            2283186.89   2354025.01    4.636731e+06\n",
       "238    239    47465.49            2306559.51   2354025.01    2.330171e+06\n",
       "239    240    23853.60            2330171.41   2354025.01    0.000000e+00\n",
       "\n",
       "[240 rows x 5 columns]"
      ]
     },
     "execution_count": 5,
     "metadata": {},
     "output_type": "execute_result"
    }
   ],
   "source": [
    "df_resultados"
   ]
  },
  {
   "cell_type": "code",
   "execution_count": 6,
   "id": "0b9625e3-d24d-463c-9562-fb2ae588b56e",
   "metadata": {},
   "outputs": [
    {
     "data": {
      "image/png": "[encoded data removed]",
      "text/plain": [
       "<Figure size 640x480 with 1 Axes>"
      ]
     },
     "metadata": {},
     "output_type": "display_data"
    }
   ],
   "source": [
    "import matplotlib.pyplot as plt\n",
    "plt.plot(df_resultados.index, df_resultados['Amortización Capital'], label='Amortizacion', color='blue', linewidth=2)\n",
    "plt.plot(df_resultados.index, df_resultados['Interés'], label='Interes', color='red', linewidth=2)\n",
    "plt.title('Evolucion interes vs amortizacion')\n",
    "plt.xlabel('Eje X')\n",
    "plt.ylabel('Eje Y')\n",
    "plt.show()"
   ]
  }
 ],
 "metadata": {
  "kernelspec": {
   "display_name": "Python 3 (ipykernel)",
   "language": "python",
   "name": "python3"
  },
  "language_info": {
   "codemirror_mode": {
    "name": "ipython",
    "version": 3
   },
   "file_extension": ".py",
   "mimetype": "text/x-python",
   "name": "python",
   "nbconvert_exporter": "python",
   "pygments_lexer": "ipython3",
   "version": "3.9.23"
  }
 },
 "nbformat": 4,
 "nbformat_minor": 5
}
