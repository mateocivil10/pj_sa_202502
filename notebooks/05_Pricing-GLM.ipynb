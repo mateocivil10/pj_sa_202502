{
 "cells": [
  {
   "cell_type": "code",
   "execution_count": null,
   "id": "723fb75e-5e95-497e-a083-5008d9d4012a",
   "metadata": {},
   "outputs": [],
   "source": [
    "import warnings\n",
    "warnings.filterwarnings('ignore')\n",
    "import pandas as pd\n",
    "import numpy as np\n",
    "import matplotlib.pyplot as plt\n",
    "import sys\n",
    "import os\n",
    "# Agregar la carpeta 'src' al sistema de rutas\n",
    "sys.path.append(os.path.abspath('../src'))\n",
    "# Ahora puedes importar el archivo o los módulos\n",
    "from pricing_tools import *\n",
    "import scipy.stats as stats\n",
    "import lightgbm as lgb\n",
    "from sklearn.model_selection import train_test_split\n",
    "from sklearn.metrics import accuracy_score\n",
    "from sklearn.preprocessing import LabelEncoder\n",
    "from sklearn.metrics import accuracy_score, confusion_matrix, classification_report, roc_curve, auc\n",
    "from sklearn.decomposition import PCA\n",
    "from sklearn.preprocessing import StandardScaler\n",
    "from sklearn.cluster import KMeans\n",
    "import statsmodels.api as sm"
   ]
  },
  {
   "cell_type": "markdown",
   "id": "93b7d166-10a3-4ace-b8d8-ec17ff674a5a",
   "metadata": {},
   "source": [
    "### Leemos el diccionario de variables"
   ]
  },
  {
   "cell_type": "code",
   "execution_count": null,
   "id": "cc7fb0d2-2edc-46f1-991c-e55692a3a850",
   "metadata": {},
   "outputs": [],
   "source": [
    "dict_path=r'../src/data_dict.xlsx'\n",
    "dict = pd.read_excel(dict_path)\n",
    "dict.head()"
   ]
  },
  {
   "cell_type": "markdown",
   "id": "60ae7b94-8eb3-461e-b755-c7c132a6b439",
   "metadata": {},
   "source": [
    "### Leemos el dataframe"
   ]
  },
  {
   "cell_type": "code",
   "execution_count": null,
   "id": "ff6ea10e-69be-4fa2-aaa9-89a62add5103",
   "metadata": {},
   "outputs": [],
   "source": [
    "df_path=r'../src/AGUAACAGBC'\n",
    "df=pd.read_parquet(df_path)\n",
    "df.head()"
   ]
  },
  {
   "cell_type": "code",
   "execution_count": null,
   "id": "61da7e3f-ca19-4c3f-a7b0-36dc9ed3217b",
   "metadata": {},
   "outputs": [],
   "source": [
    "#Por si llegase a ser necesario reducir el tamaño del df para el analisis\n",
    "df_muestra = df.sample(n=10000)"
   ]
  },
  {
   "cell_type": "code",
   "execution_count": null,
   "id": "4b6c5c35-19c6-4e7b-b8c3-e25795bd1dbb",
   "metadata": {},
   "outputs": [],
   "source": [
    "###Definimos las variables de respuesta y peso\n",
    "var_resp='stro_Corr_AGUAACAGBC'\n",
    "peso='exp_corr_ACAGBC'\n",
    "ano='year'"
   ]
  },
  {
   "cell_type": "code",
   "execution_count": null,
   "id": "b7810f00-1b64-449a-885a-47e394b28028",
   "metadata": {},
   "outputs": [],
   "source": [
    "df_muestra=df_muestra[df_muestra[peso]>0] #Necesitamos que la poliza tenga exposición"
   ]
  },
  {
   "cell_type": "code",
   "execution_count": null,
   "id": "860ad5ef-37dd-49ee-84fc-e815838d789f",
   "metadata": {},
   "outputs": [],
   "source": [
    "df_muestra['resp']=df_muestra[var_resp]/df_muestra[peso]"
   ]
  },
  {
   "cell_type": "code",
   "execution_count": null,
   "id": "de5b60df-5eb4-423b-ac31-a80be12b8324",
   "metadata": {},
   "outputs": [],
   "source": [
    "def graficar_histograma(df, columna, bins=10, titulo=\"Histograma\", xlabel=\"Valores\", ylabel=\"Frecuencia\"):\n",
    "    \"\"\"\n",
    "    Grafica un histograma de una variable específica de un DataFrame.\n",
    "    \n",
    "    Parámetros:\n",
    "    - df: DataFrame de pandas que contiene los datos.\n",
    "    - columna: Nombre de la columna que se desea graficar (str).\n",
    "    - bins: Número de bins en el histograma (opcional, por defecto 10).\n",
    "    - titulo: Título del gráfico (opcional).\n",
    "    - xlabel: Etiqueta para el eje X (opcional).\n",
    "    - ylabel: Etiqueta para el eje Y (opcional).\n",
    "    \"\"\"\n",
    "    # Comprobamos si la columna existe en el DataFrame\n",
    "    if columna not in df.columns:\n",
    "        print(f\"La columna '{columna}' no se encuentra en el DataFrame.\")\n",
    "        return\n",
    "    \n",
    "    # Graficar el histograma\n",
    "    plt.figure(figsize=(8, 6))\n",
    "    plt.hist(df[columna].dropna(), bins=bins, color=\"skyblue\", edgecolor=\"black\")\n",
    "    plt.title(titulo)\n",
    "    plt.xlabel(xlabel)\n",
    "    plt.ylabel(ylabel)\n",
    "    plt.grid(axis=\"y\", linestyle=\"--\", alpha=0.7)\n",
    "    plt.show()"
   ]
  },
  {
   "cell_type": "code",
   "execution_count": null,
   "id": "0c02a15c-3f5c-4833-9935-aae7709f6ee1",
   "metadata": {},
   "outputs": [],
   "source": [
    "#Estudiamos la composicion de la cartera por años\n",
    "df_muestra[ano]=df_muestra[ano].astype(str)\n",
    "df_resumido = df_muestra.groupby(ano).agg({peso: 'sum', 'resp': 'mean'}).reset_index()\n",
    "graficar_barras_linea(df_resumido,ano,peso,'resp')"
   ]
  },
  {
   "cell_type": "code",
   "execution_count": null,
   "id": "7fe47394-21f7-4c4c-9d86-3645606bd1c6",
   "metadata": {},
   "outputs": [],
   "source": [
    "### Ejemplo variable importante \n",
    "### Antiguedad del edificio\n",
    "var='antigedif'\n",
    "df_muestra[var].dtype\n",
    "df_resumido = df_muestra.groupby(var).agg({peso: 'sum', 'resp': 'mean'}).reset_index()\n",
    "graficar_barras_linea(df_resumido,var,peso,'resp')"
   ]
  },
  {
   "cell_type": "code",
   "execution_count": null,
   "id": "ed6a1c04-8c37-42e9-91a8-205c88a9b327",
   "metadata": {},
   "outputs": [],
   "source": [
    "antig_corregida=generar_formato_exposicion_homogenea(df_muestra, 'antigedif', peso, 10)\n",
    "df_muestra['antigedif_2']=antig_corregida #Sobreescribimos la columna corregida"
   ]
  },
  {
   "cell_type": "code",
   "execution_count": null,
   "id": "8817ec68-ae6b-4aa5-9b89-9d3117de02b6",
   "metadata": {},
   "outputs": [],
   "source": [
    "df_muestra['antigedif_2']=df_muestra['antigedif_2'].astype(str)\n",
    "df_resumido = df_muestra.groupby('antigedif_2').agg({peso: 'sum', 'resp': 'mean'}).reset_index()\n",
    "graficar_barras_linea(df_resumido,'antigedif_2',peso,'resp')"
   ]
  },
  {
   "cell_type": "code",
   "execution_count": null,
   "id": "e651d2cf-b55e-4e6c-8ef1-5b0360338d3d",
   "metadata": {},
   "outputs": [],
   "source": [
    "### Y que hacemos con los Nan? -> por ejemplo convertirlos en la moda de la variable\n",
    "df_muestra['antigedif_2'].replace('nan',np.nan).mode(dropna=True)[0]"
   ]
  },
  {
   "cell_type": "code",
   "execution_count": null,
   "id": "36e18525-5c50-4771-aaec-7c670ea680ad",
   "metadata": {},
   "outputs": [],
   "source": [
    "### Ahora sustituimos los nan por el valor moda\n",
    "df_muestra['antigedif_2']=df_muestra['antigedif_2'].replace('nan','(51.0, 56.0]')\n",
    "df_resumido = df_muestra.groupby('antigedif_2').agg({peso: 'sum', 'resp': 'mean'}).reset_index()\n",
    "graficar_barras_linea(df_resumido,'antigedif_2',peso,'resp')"
   ]
  },
  {
   "cell_type": "code",
   "execution_count": null,
   "id": "202408f8-53ff-402c-9bc3-561d2caf93f0",
   "metadata": {},
   "outputs": [],
   "source": [
    "factores=['year','antigedif_2','anualidad_seguro','FP','K_ACAGBC','SUPERFICIE','stro_1a_AGUAACAGBC','NIF_TIPO']\n",
    "df_muestra[factores].dtypes"
   ]
  },
  {
   "cell_type": "code",
   "execution_count": null,
   "id": "e47d1aef-0bad-457c-815b-729bcfeb4fe0",
   "metadata": {},
   "outputs": [],
   "source": [
    "# Creamos variables dummy para las columnas categóricas\n",
    "key_words=['year', 'antigedif_2','NIF_TIPO']\n",
    "df_encoded = pd.get_dummies(df_muestra, columns=key_words, drop_first=True)"
   ]
  },
  {
   "cell_type": "code",
   "execution_count": null,
   "id": "5ccaa306-7a80-4d19-8630-85add3567d85",
   "metadata": {},
   "outputs": [],
   "source": [
    "cols_encoded = [each for each in df_encoded.columns if any(keyword in each for keyword in key_words)]\n",
    "cols_encoded"
   ]
  },
  {
   "cell_type": "code",
   "execution_count": null,
   "id": "4940683b-c8b7-4f1b-9d5a-bbc594de25b1",
   "metadata": {},
   "outputs": [],
   "source": [
    "factores_updated=[each for each in factores if each not in key_words]\n",
    "factores_updated"
   ]
  },
  {
   "cell_type": "code",
   "execution_count": null,
   "id": "c3057c71-e2bc-4b7e-8fa4-d325fd19a6c6",
   "metadata": {},
   "outputs": [],
   "source": [
    "list(set(cols_encoded+factores_updated))"
   ]
  },
  {
   "cell_type": "code",
   "execution_count": null,
   "id": "dd1cbc53-ac7d-47c9-b87a-3cff95050a22",
   "metadata": {},
   "outputs": [],
   "source": [
    "# Prepara los datos\n",
    "df_encoded = df_encoded[list(set(cols_encoded+factores_updated))].astype('float')\n",
    "X=df_encoded# Selecciona las variables predictoras\n",
    "X = sm.add_constant(X)            # Agrega una constante al modelo (intercepto)\n",
    "y = df_muestra['resp']                   # Variable de respuesta\n",
    "\n",
    "# Definir la exposición como un offset en logaritmo\n",
    "offset = np.log(df_muestra[peso])\n",
    "\n",
    "# Crear el modelo GLM con enlace logarítmico y familia Poisson\n",
    "modelo = sm.GLM(y, X, family=sm.families.Poisson(), offset=offset)\n",
    "\n",
    "# Ajustar el modelo\n",
    "resultado = modelo.fit()\n",
    "\n",
    "# Mostrar los resultados del modelo\n",
    "print(resultado.summary())"
   ]
  },
  {
   "cell_type": "code",
   "execution_count": null,
   "id": "0d093fd2-5409-4710-a40a-11614b4584e0",
   "metadata": {},
   "outputs": [],
   "source": [
    "def calculate_bic(model):\n",
    "    n = len(model.model.endog)  # Número de observaciones\n",
    "    k = model.df_model + 1  # Número de parámetros (df_model incluye los coeficientes, sumamos 1 por el intercepto)\n",
    "    bic = np.log(n) * k - 2 * model.llf  # BIC = ln(n) * k - 2 * log-verosimilitud\n",
    "    return bic\n",
    "calculate_bic(resultado)"
   ]
  },
  {
   "cell_type": "code",
   "execution_count": null,
   "id": "762dfbd3-1286-4255-b37e-7b0eb78dfa17",
   "metadata": {},
   "outputs": [],
   "source": [
    "factores=['year','antigedif_2','anualidad_seguro','FP','K_ACAGBC','SUPERFICIE','stro_1a_AGUAACAGBC']\n",
    "df_muestra[factores].dtypes"
   ]
  },
  {
   "cell_type": "code",
   "execution_count": null,
   "id": "4f48d659-345d-434b-a426-0bfb2b2e686f",
   "metadata": {},
   "outputs": [],
   "source": [
    "# Creamos variables dummy para las columnas categóricas\n",
    "key_words=['year', 'antigedif_2']\n",
    "df_encoded = pd.get_dummies(df_muestra, columns=key_words, drop_first=True)"
   ]
  },
  {
   "cell_type": "code",
   "execution_count": null,
   "id": "ce3bb74b-d6e4-40e2-bbf8-da3760be1a61",
   "metadata": {},
   "outputs": [],
   "source": [
    "cols_encoded = [each for each in df_encoded.columns if any(keyword in each for keyword in key_words)]\n",
    "cols_encoded"
   ]
  },
  {
   "cell_type": "code",
   "execution_count": null,
   "id": "b77c6c2e-ee44-4b7f-96eb-0f5f15da26a7",
   "metadata": {},
   "outputs": [],
   "source": [
    "factores_updated=[each for each in factores if each not in key_words]\n",
    "factores_updated"
   ]
  },
  {
   "cell_type": "code",
   "execution_count": null,
   "id": "fdea4c1a-2843-4ae8-97cf-e70c9ff1bcc8",
   "metadata": {},
   "outputs": [],
   "source": [
    "# Prepara los datos\n",
    "df_encoded = df_encoded[list(set(cols_encoded+factores_updated))].astype('float')\n",
    "X=df_encoded# Selecciona las variables predictoras\n",
    "X = sm.add_constant(X)            # Agrega una constante al modelo (intercepto)\n",
    "y = df_muestra['resp']                   # Variable de respuesta\n",
    "\n",
    "# Definir la exposición como un offset en logaritmo\n",
    "offset = np.log(df_muestra[peso])\n",
    "\n",
    "# Crear el modelo GLM con enlace logarítmico y familia Poisson\n",
    "modelo1 = sm.GLM(y, X, family=sm.families.Poisson(), offset=offset)\n",
    "\n",
    "# Ajustar el modelo\n",
    "resultado1 = modelo1.fit()\n",
    "\n",
    "# Mostrar los resultados del modelo\n",
    "print(resultado.summary())"
   ]
  },
  {
   "cell_type": "code",
   "execution_count": null,
   "id": "d8cad03a-5502-4c36-a4d0-d9e9157de209",
   "metadata": {},
   "outputs": [],
   "source": [
    "calculate_bic(resultado1)"
   ]
  }
 ],
 "metadata": {
  "kernelspec": {
   "display_name": "Python 3 (ipykernel)",
   "language": "python",
   "name": "python3"
  },
  "language_info": {
   "codemirror_mode": {
    "name": "ipython",
    "version": 3
   },
   "file_extension": ".py",
   "mimetype": "text/x-python",
   "name": "python",
   "nbconvert_exporter": "python",
   "pygments_lexer": "ipython3",
   "version": "3.9.23"
  }
 },
 "nbformat": 4,
 "nbformat_minor": 5
}
